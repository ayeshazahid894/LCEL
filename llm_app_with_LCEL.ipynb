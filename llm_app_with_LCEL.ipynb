{
 "cells": [
  {
   "cell_type": "code",
   "execution_count": 1,
   "id": "57c1eb4a",
   "metadata": {},
   "outputs": [
    {
     "data": {
      "text/plain": [
       "'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'"
      ]
     },
     "execution_count": 1,
     "metadata": {},
     "output_type": "execute_result"
    }
   ],
   "source": [
    "import os\n",
    "from dotenv import load_dotenv\n",
    "load_dotenv()\n",
    "groq_api_key = os.getenv(\"GROQ_API_KEY\")\n",
    "groq_api_key"
   ]
  },
  {
   "cell_type": "code",
   "execution_count": 2,
   "id": "8d230252",
   "metadata": {},
   "outputs": [
    {
     "data": {
      "text/plain": [
       "ChatGroq(client=<groq.resources.chat.completions.Completions object at 0x0000020E7DB0FB20>, async_client=<groq.resources.chat.completions.AsyncCompletions object at 0x0000020E7DB45E10>, model_name='gemma2-9b-it', model_kwargs={}, groq_api_key=SecretStr('**********'))"
      ]
     },
     "execution_count": 2,
     "metadata": {},
     "output_type": "execute_result"
    }
   ],
   "source": [
    "from langchain_groq import ChatGroq\n",
    "\n",
    "model = ChatGroq(model=\"gemma2-9b-it\",groq_api_key=groq_api_key)\n",
    "\n",
    "model"
   ]
  },
  {
   "cell_type": "code",
   "execution_count": 21,
   "id": "ca50e01c",
   "metadata": {},
   "outputs": [],
   "source": [
    "from langchain_core.messages import HumanMessage, SystemMessage  # system message decides how the model behaves\n",
    "\n",
    "messages = [\n",
    "    SystemMessage(content=\"Translate the following language from English to Sindhi\"),\n",
    "    HumanMessage(content=\"I am a dietitian—available for consultations on health and nutrition\")\n",
    "]\n",
    "\n",
    "result = model.invoke(messages)\n"
   ]
  },
  {
   "cell_type": "code",
   "execution_count": 15,
   "id": "fc085b33",
   "metadata": {},
   "outputs": [
    {
     "data": {
      "text/plain": [
       "AIMessage(content=\"  मी  اِک  ڈائٹیشن  ہون،   صحت  اور  غذا  کے  بارے  میں  مشاورتاں  کے  لیے  موجود  ہوں۔  \\n\\n\\n**Transliteration:**\\n\\nMee ek dietishoon, sehat aur khaanay kay bare mein mashawartoon kay liye maujud hoon. \\n\\n**Explanation:**\\n\\n* **Mee:** I\\n* **ek dietishoon:** a dietitian\\n* **sehat aur khaanay:**  health and nutrition\\n* **kay bare mein:** about\\n* **mashawartoon:** consultations \\n* **kay liye:** for\\n* **maujud hoon:** am available\\n\\n\\nLet me know if you have any other phrases you'd like translated!\\n\", additional_kwargs={}, response_metadata={'token_usage': {'completion_tokens': 175, 'prompt_tokens': 32, 'total_tokens': 207, 'completion_time': 0.318181818, 'prompt_time': 0.002380027, 'queue_time': 0.01800747, 'total_time': 0.320561845}, 'model_name': 'gemma2-9b-it', 'system_fingerprint': 'fp_10c08bf97d', 'finish_reason': 'stop', 'logprobs': None}, id='run--2d6a8f89-26be-49a7-9d9d-086164313e4a-0', usage_metadata={'input_tokens': 32, 'output_tokens': 175, 'total_tokens': 207})"
      ]
     },
     "execution_count": 15,
     "metadata": {},
     "output_type": "execute_result"
    }
   ],
   "source": [
    "result"
   ]
  },
  {
   "cell_type": "code",
   "execution_count": 16,
   "id": "32b3a210",
   "metadata": {},
   "outputs": [
    {
     "data": {
      "text/plain": [
       "\"  मी  اِک  ڈائٹیشن  ہون،   صحت  اور  غذا  کے  بارے  میں  مشاورتاں  کے  لیے  موجود  ہوں۔  \\n\\n\\n**Transliteration:**\\n\\nMee ek dietishoon, sehat aur khaanay kay bare mein mashawartoon kay liye maujud hoon. \\n\\n**Explanation:**\\n\\n* **Mee:** I\\n* **ek dietishoon:** a dietitian\\n* **sehat aur khaanay:**  health and nutrition\\n* **kay bare mein:** about\\n* **mashawartoon:** consultations \\n* **kay liye:** for\\n* **maujud hoon:** am available\\n\\n\\nLet me know if you have any other phrases you'd like translated!\\n\""
      ]
     },
     "execution_count": 16,
     "metadata": {},
     "output_type": "execute_result"
    }
   ],
   "source": [
    "from langchain_core.output_parsers import StrOutputParser\n",
    "Parser =StrOutputParser()\n",
    "Parser.invoke(result)\n"
   ]
  },
  {
   "cell_type": "code",
   "execution_count": 17,
   "id": "2da7fc3a",
   "metadata": {},
   "outputs": [
    {
     "data": {
      "text/plain": [
       "'मी 淀्नڪي ھئ.  \\n\\nHere\\'s a breakdown:\\n\\n* **मी 淀्नڪي ھئ:** This translates directly to \"I am a dietitian.\"\\n\\n\\nYou could also add:\\n\\n* **स्वास्थ्य او نُوتريšen بابت مشاورت لاءِ مہیا ہئ:** This means \"available for consultations on health and nutrition.\"\\n\\n\\nCombining the two gives you:\\n\\n**मी 淀्नڪي ھئ.  स्वاस्थ्य او نُوتريšen بابت مشاورت لاءِ مہیا ہئ.**\\n\\n\\nLet me know if you have any other phrases you\\'d like translated!\\n'"
      ]
     },
     "execution_count": 17,
     "metadata": {},
     "output_type": "execute_result"
    }
   ],
   "source": [
    "##using lcel to chain the components\n",
    "from langchain_core.output_parsers import StrOutputParser\n",
    "parser = StrOutputParser()\n",
    "\n",
    "chain = model | parser\n",
    "\n",
    "chain = model | Parser\n",
    "chain.invoke(messages)\n"
   ]
  },
  {
   "cell_type": "code",
   "execution_count": 18,
   "id": "1ae21f67",
   "metadata": {},
   "outputs": [],
   "source": [
    "## prompt template\n",
    "from langchain_core.prompts import ChatPromptTemplate\n",
    "\n",
    "generic_template = \"Translate the following into {language}\"\n",
    "\n",
    "prompt = ChatPromptTemplate.from_messages(\n",
    "    [(\"system\",generic_template),(\"user\",\"{text}\")]\n",
    ")\n"
   ]
  },
  {
   "cell_type": "code",
   "execution_count": 22,
   "id": "0ef24d54",
   "metadata": {},
   "outputs": [],
   "source": [
    "result = prompt.invoke({\"language\":\"Sindhi\",\"text\":\"I am a dietitian—available for consultations on health and nutrition\"})"
   ]
  },
  {
   "cell_type": "code",
   "execution_count": 23,
   "id": "4daa2e41",
   "metadata": {},
   "outputs": [
    {
     "data": {
      "text/plain": [
       "[SystemMessage(content='Translate the following into Sindhi', additional_kwargs={}, response_metadata={}),\n",
       " HumanMessage(content='I am a dietitian—available for consultations on health and nutrition', additional_kwargs={}, response_metadata={})]"
      ]
     },
     "execution_count": 23,
     "metadata": {},
     "output_type": "execute_result"
    }
   ],
   "source": [
    "result.to_messages()"
   ]
  },
  {
   "cell_type": "code",
   "execution_count": 24,
   "id": "47516ae6",
   "metadata": {},
   "outputs": [
    {
     "data": {
      "text/plain": [
       "'मी iforms ڪن سليت 惠م ھلٿ ۽ نيوٽرشن تي مشاورت لاءِ مہیا \\n\\n'"
      ]
     },
     "execution_count": 24,
     "metadata": {},
     "output_type": "execute_result"
    }
   ],
   "source": [
    "chain = prompt | model | parser\n",
    "chain.invoke({\"language\":\"Sindhi\",\"text\":\"I am a dietitian—available for consultations on health and nutrition\"}) "
   ]
  }
 ],
 "metadata": {
  "kernelspec": {
   "display_name": "lcel",
   "language": "python",
   "name": "python3"
  },
  "language_info": {
   "codemirror_mode": {
    "name": "ipython",
    "version": 3
   },
   "file_extension": ".py",
   "mimetype": "text/x-python",
   "name": "python",
   "nbconvert_exporter": "python",
   "pygments_lexer": "ipython3",
   "version": "3.10.11"
  }
 },
 "nbformat": 4,
 "nbformat_minor": 5
}
